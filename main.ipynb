{
 "cells": [
  {
   "cell_type": "markdown",
   "metadata": {},
   "source": [
    "Goal: to determine the precursor lines, if any, of a 1d CA given a rule.\n",
    "\n",
    "Tests a variety of algorithms for determining previous line with the hopes of identifying a relatively quick\n",
    "algorithm that is better than the brute force method (O(n) = 2^n)"
   ]
  },
  {
   "cell_type": "code",
   "execution_count": 103,
   "metadata": {},
   "outputs": [],
   "source": [
    "from matplotlib import pyplot as plt\n",
    "plt.style.use('classic')\n",
    "%matplotlib inline\n",
    "import numpy as np\n",
    "import random\n",
    "import time\n",
    "import itertools\n",
    "\n",
    "#Generates a random list of 1's and 0's of length n\n",
    "n = 10\n",
    "test_line = [None]*n\n",
    "for i in range(n):\n",
    "    test_line[i] = random.choice([0,1])\n",
    "\n",
    "#Cellular Automata rule\n",
    "test_rule = [1,1,0,0,1,1,0,0]\n",
    "\n",
    "#Rules for Reference/Testing\n",
    "#Inverting Rule (51): [1,1,0,0,1,1,0,0]\n",
    "#Rule 30: [0, 0, 0, 1, 1, 1, 0]\n",
    "#Rule 102: [0, 1, 1, 0, 0, 1, 1, 0]"
   ]
  },
  {
   "cell_type": "code",
   "execution_count": 104,
   "metadata": {},
   "outputs": [],
   "source": [
    "################### Helper Methods ######################\n",
    "def arrToInt(n):\n",
    "    '''\n",
    "        Parameter: n - an array containing only 1's and 0's as its elements.\n",
    "        Returns: the integer representation of the array as a binary number.\n",
    "    '''\n",
    "    result = 0\n",
    "    for power, i in enumerate(n):\n",
    "        result += i * 2**((len(n)-1-power))\n",
    "    return result\n",
    "\n",
    "def intToArr(a):\n",
    "    '''\n",
    "        Parameter: n - an arbitrary integer.\n",
    "        Returns: The list representation of n as a binary number\n",
    "    '''\n",
    "    b = bin(a)[2:]\n",
    "    return [int(i) for i in b]\n",
    "\n",
    "def getNext(three, bin_rule):\n",
    "    '''\n",
    "        Parameter:  three - a list of 3 elements containing only 1's and 0's, i.e. a 'neighbor set' of three cells.\n",
    "                    bin_rule - A valid Cellular Automata rule.\n",
    "        Returns: The given CA rule applied to the three cells.\n",
    "    '''\n",
    "    if(len(three) != 3): print(\"Error getNext() - must be array of length 3\")\n",
    "    return bin_rule[arrToInt(three)]\n",
    "\n",
    "def iterateOnce(line, bin_rule):\n",
    "    '''\n",
    "        Parameter:  line - a list containing only 1's and 0's, i.e. a row of cells\n",
    "                    bin_rule - A valid Cellular Automata rule.\n",
    "        Returns: The given CA rule applied to the line.\n",
    "    '''\n",
    "    result = [None]*len(line)\n",
    "    result[-1] = getNext([line[-2],line[-1],line[0]], bin_rule)\n",
    "    for i in range(len(line)-1):\n",
    "        result[i] = getNext([line[i-1],line[i],line[i+1]], bin_rule)\n",
    "    return result\n",
    "\n",
    "def gen_test_line(n):\n",
    "    '''\n",
    "        Parameter:  n - any positive integer.\n",
    "        Returns: A random list of 1's and 0's of length n\n",
    "    '''\n",
    "    result = [None]*n\n",
    "    for i in range(n):\n",
    "        result[i] = random.choice([0,1])\n",
    "    return result\n",
    "\n",
    "def join(arr):\n",
    "    '''\n",
    "        Parameter:  a - any list or nested list\n",
    "        Returns: the sequential sum of the elements in the list\n",
    "    '''\n",
    "    result = []\n",
    "    for i in arr:\n",
    "        result += i\n",
    "    return result"
   ]
  },
  {
   "cell_type": "code",
   "execution_count": 105,
   "metadata": {},
   "outputs": [],
   "source": [
    "######################### Timing #########################\n",
    "def getTime(function, line=test_line, startAt=3):\n",
    "    '''\n",
    "        Parameter:  function - A backtracking algorithm \n",
    "                    line - a valid line of cells.\n",
    "                    startAt - the length of 'line' to begin timing at.\n",
    "        Returns: A set of times for estimation of order\n",
    "    '''\n",
    "    length = len(line)-startAt\n",
    "    y = [None]*(length)\n",
    "    x = [i for i in range(length)]\n",
    "\n",
    "    for i in range(startAt, len(line)):    \n",
    "        temp_line = line[:i]\n",
    "        t1 = time.time()\n",
    "        function(temp_line, test_rule)\n",
    "        t2 = round(time.time() - t1, 8)*1000\n",
    "        y[i - startAt] = t2\n",
    "    return (x,y)"
   ]
  },
  {
   "cell_type": "code",
   "execution_count": 106,
   "metadata": {},
   "outputs": [],
   "source": [
    "################### Brute Force Method ######################\n",
    "'''\n",
    "    See paper for a full description of this algorithm.\n",
    "'''\n",
    "#O(n) = 2^n\n",
    "def brute_force_method(line, bin_rule):\n",
    "    result = []\n",
    "    for i in range(2**len(line)):\n",
    "        k = ([0]*(len(line)-len(intToArr(i)))) + intToArr(i)\n",
    "        if(iterateOnce(k, bin_rule) == line):\n",
    "           result.append(k)\n",
    "    return result"
   ]
  },
  {
   "cell_type": "code",
   "execution_count": 107,
   "metadata": {},
   "outputs": [],
   "source": [
    "#Times the brute force method\n",
    "len_of_line=20\n",
    "xy = getTime(brute_force_method,line=gen_test_line(len_of_line))"
   ]
  },
  {
   "cell_type": "code",
   "execution_count": 108,
   "metadata": {},
   "outputs": [
    {
     "data": {
      "text/plain": [
       "[<matplotlib.lines.Line2D at 0x119d9b85e50>]"
      ]
     },
     "execution_count": 108,
     "metadata": {},
     "output_type": "execute_result"
    },
    {
     "data": {
      "image/png": "[encoded data removed]",
      "text/plain": [
       "<Figure size 432x288 with 1 Axes>"
      ]
     },
     "metadata": {
      "needs_background": "light"
     },
     "output_type": "display_data"
    }
   ],
   "source": [
    "plt.xlabel(\"Length of line\")\n",
    "plt.ylabel(\"Time (ms)\")\n",
    "plt.title('BFM')\n",
    "plt.plot(xy[0], xy[1], c='blue')\n",
    "\n",
    "f_x = np.linspace(0,len_of_line-4,len_of_line-3)\n",
    "f = lambda x: round(2**(x-2.4),4)\n",
    "f_y = [f(x) for x in range(len_of_line-3)]\n",
    "plt.plot(f_x, f_y, c='black')"
   ]
  },
  {
   "cell_type": "code",
   "execution_count": 109,
   "metadata": {},
   "outputs": [],
   "source": [
    "################### Square Subintervals Algorithm ######################\n",
    "'''\n",
    "    See paper for a full description of this algorithm.\n",
    "'''\n",
    "#O(n) = 2^(sqrt(n))\n",
    "def square_subintervals_algorithm(line, bin_rule): #line must be at least 5 in length\n",
    "\n",
    "    if(len(line) <= 6):\n",
    "        splits = [line]\n",
    "    else:\n",
    "        split_interval = int(np.ceil(np.sqrt(len(line))))\n",
    "        splits = [line[i:i+split_interval] for i in range(0, len(line)-1, split_interval)]\n",
    "        if(len(splits[-1]) < 3):\n",
    "            splits[-2] = splits[-2] + splits[-1]\n",
    "            del splits[-1]\n",
    "            half = int(len(splits[-1])/2)\n",
    "            a = splits[-1][:half]\n",
    "            b = splits[-1][len(splits[-1])-half:]\n",
    "            splits[-1] = a\n",
    "            splits.append(b)\n",
    "    combinations = [None]*(len(splits))\n",
    "    for i, k in enumerate(splits):\n",
    "        combinations[i] = brute_force_method(k, bin_rule)\n",
    "        if combinations[i] == []:\n",
    "            return []\n",
    "\n",
    "    x = [join(a) for a in list(itertools.product(*combinations))]\n",
    "    result = []\n",
    "    for element in x:\n",
    "        if iterateOnce(element, bin_rule) == line:\n",
    "            result.append(element)\n",
    "    return result"
   ]
  },
  {
   "cell_type": "code",
   "execution_count": 110,
   "metadata": {},
   "outputs": [
    {
     "name": "stdout",
     "output_type": "stream",
     "text": [
      "[0, 0, 1, 0, 0, 0, 0, 0, 0, 1, 1, 1, 1, 0, 1, 0, 1, 0, 0, 1, 1, 0, 0, 1, 1, 0, 1, 1, 1, 0, 0, 1, 1, 1, 1, 0, 0, 1, 0, 1, 1, 0, 0, 1, 0, 0, 1, 0, 1, 1, 1, 1, 1, 1, 1, 1, 1, 0, 1, 0, 1, 1, 1, 0, 1, 0, 1, 1, 1, 1, 1, 1, 1, 1, 0, 0, 1, 1, 0, 0, 1, 1, 0, 0, 0, 1, 1, 1, 0, 1, 0, 0, 0, 0, 1, 1, 1, 0, 0, 1]\n"
     ]
    }
   ],
   "source": [
    "#Times the Square Subintervals Algorithm\n",
    "len_of_line = 100\n",
    "line = gen_test_line(len_of_line)\n",
    "print(line)\n",
    "xy = getTime(square_subintervals_algorithm, line)"
   ]
  },
  {
   "cell_type": "code",
   "execution_count": 111,
   "metadata": {},
   "outputs": [
    {
     "name": "stderr",
     "output_type": "stream",
     "text": [
      "C:\\Users\\dmale\\AppData\\Local\\Temp/ipykernel_12964/4171088996.py:7: RuntimeWarning: invalid value encountered in sqrt\n",
      "  f = lambda x: round(2**np.sqrt(x-40),4)\n"
     ]
    },
    {
     "data": {
      "text/plain": [
       "[<matplotlib.lines.Line2D at 0x119d9bf8c40>]"
      ]
     },
     "execution_count": 111,
     "metadata": {},
     "output_type": "execute_result"
    },
    {
     "data": {
      "image/png": "[encoded data removed]",
      "text/plain": [
       "<Figure size 432x288 with 1 Axes>"
      ]
     },
     "metadata": {
      "needs_background": "light"
     },
     "output_type": "display_data"
    }
   ],
   "source": [
    "plt.xlabel(\"Length of line\")\n",
    "plt.ylabel(\"Time (ms)\")\n",
    "plt.title('Speedy BFM')\n",
    "plt.plot(xy[0],xy[1], c='blue')\n",
    "\n",
    "f_x = np.linspace(0,len_of_line-4,len_of_line-3)\n",
    "f = lambda x: round(2**np.sqrt(x-40),4)\n",
    "f_y = [f(x) for x in range(len_of_line-3)]\n",
    "plt.plot(f_x,f_y,c='black')"
   ]
  },
  {
   "cell_type": "code",
   "execution_count": 112,
   "metadata": {},
   "outputs": [
    {
     "data": {
      "text/plain": [
       "[[1, 1, 1, 1, 0, 0, 0, 0, 1, 0, 0, 1, 0]]"
      ]
     },
     "execution_count": 112,
     "metadata": {},
     "output_type": "execute_result"
    }
   ],
   "source": [
    "################### Fixed Intervals Algorithm ######################\n",
    "def fixed_intervals_algorithm(line, bin_rule):\n",
    "    if len(line) <= 6:\n",
    "        splits = [line]\n",
    "    else:\n",
    "        split_interval = 4\n",
    "        c = len(line) % split_interval\n",
    "        if c == 1 or c == 2:\n",
    "            split_interval = 5\n",
    "        splits = [line[i:i+split_interval] for i in range(0, len(line)-1, split_interval)]\n",
    "\n",
    "    combinations = [None]*(len(splits))\n",
    "\n",
    "    for i, k in enumerate(splits):\n",
    "        combinations[i] = brute_force_method(k, bin_rule)\n",
    "        if combinations[i] == []:\n",
    "            return []\n",
    "\n",
    "    x = [join(a) for a in list(itertools.product(*combinations))]\n",
    "\n",
    "    result = []\n",
    "    for element in x:\n",
    "        if iterateOnce(element, bin_rule) == line:\n",
    "            result.append(element)\n",
    "    return result\n",
    "\n",
    "fixed_intervals_algorithm([0,0,0,0,1,1,1,1,0,1,1,0,1], test_rule)"
   ]
  },
  {
   "cell_type": "code",
   "execution_count": 113,
   "metadata": {},
   "outputs": [],
   "source": [
    "#Times the Fixed Intervals Algorithm\n",
    "len_of_line = 1000\n",
    "line = gen_test_line(len_of_line)\n",
    "xy = getTime(fixed_intervals_algorithm, line)"
   ]
  },
  {
   "cell_type": "code",
   "execution_count": 114,
   "metadata": {},
   "outputs": [
    {
     "data": {
      "text/plain": [
       "[<matplotlib.lines.Line2D at 0x119d9c847c0>]"
      ]
     },
     "execution_count": 114,
     "metadata": {},
     "output_type": "execute_result"
    },
    {
     "data": {
      "image/png": "[encoded data removed]",
      "text/plain": [
       "<Figure size 432x288 with 1 Axes>"
      ]
     },
     "metadata": {
      "needs_background": "light"
     },
     "output_type": "display_data"
    }
   ],
   "source": [
    "plt.xlabel(\"Length of line\")\n",
    "plt.ylabel(\"Time (ms)\")\n",
    "plt.title('Fixed Intervals Algorithm')\n",
    "plt.plot(xy[0],xy[1], c='blue')\n",
    "\n",
    "f_x1 = np.linspace(0,len_of_line-4,len_of_line-3)\n",
    "f1 = lambda x: x/19\n",
    "f_y1 = [f1(x) for x in range(len_of_line-3)]\n",
    "\n",
    "f_x2 = np.linspace(0,len_of_line-4,len_of_line-3)\n",
    "f2 = lambda x: x/34\n",
    "f_y2 = [f2(x) for x in range(len_of_line-3)]\n",
    "plt.plot(f_x1,f_y1,c='black')\n",
    "plt.plot(f_x2,f_y2,c='black')"
   ]
  },
  {
   "cell_type": "code",
   "execution_count": 115,
   "metadata": {},
   "outputs": [
    {
     "data": {
      "text/plain": [
       "[[0, 0, 1, 0, 1, 1, 1, 1, 1, 0, 1, 0, 0, 1, 0, 0, 1, 0, 1, 1, 0]]"
      ]
     },
     "execution_count": 115,
     "metadata": {},
     "output_type": "execute_result"
    }
   ],
   "source": [
    "################### Condensed Fixed Intervals Algorithm ######################\n",
    "'''\n",
    "    See paper for a full description of this algorithm.\n",
    "'''\n",
    "#O(n) = n/64\n",
    "def condensed_fixed_intervals_algorithm(line, bin_rule):\n",
    "    if len(line) < 6:\n",
    "        splits = [line]\n",
    "    else:\n",
    "        split_function = lambda split_interval, offset: [line[i:i+split_interval] for i in range(0, len(line)-offset, split_interval)]\n",
    "        m_3 = len(line) % 3\n",
    "        if m_3 == 0:\n",
    "            splits = split_function(3, 1)\n",
    "        elif m_3 == 1:\n",
    "            splits = split_function(3, 2)\n",
    "            splits[-1].append(line[-1])\n",
    "        elif m_3 == 2:\n",
    "            splits = split_function(3, 2)\n",
    "            splits[-2].append(splits[-1].pop(0))\n",
    "            splits[-1] += ([line[-2]] + [line[-1]])\n",
    "\n",
    "    combinations = [None]*(len(splits))\n",
    "\n",
    "    for i, k in enumerate(splits):\n",
    "        combinations[i] = brute_force_method(k, bin_rule)\n",
    "        if combinations[i] == []:\n",
    "            return []\n",
    "\n",
    "    x = [join(a) for a in list(itertools.product(*combinations))]\n",
    "    result = []\n",
    "    for element in x:\n",
    "        if iterateOnce(element, bin_rule) == line:\n",
    "            result.append(element)\n",
    "    return result\n",
    "\n",
    "condensed_fixed_intervals_algorithm([1,1,0,1,0,0,0,0,0,1,0,1,1,0,1,1,0,1,0,0,1], test_rule)"
   ]
  },
  {
   "cell_type": "code",
   "execution_count": 116,
   "metadata": {},
   "outputs": [],
   "source": [
    "#Timing the condensed fixed intervals algorithm\n",
    "len_of_line = 1000\n",
    "line = gen_test_line(len_of_line)\n",
    "xy = getTime(condensed_fixed_intervals_algorithm, line)"
   ]
  },
  {
   "cell_type": "code",
   "execution_count": 117,
   "metadata": {},
   "outputs": [
    {
     "data": {
      "text/plain": [
       "[<matplotlib.lines.Line2D at 0x119d9cf72e0>]"
      ]
     },
     "execution_count": 117,
     "metadata": {},
     "output_type": "execute_result"
    },
    {
     "data": {
      "image/png": "[encoded data removed]",
      "text/plain": [
       "<Figure size 432x288 with 1 Axes>"
      ]
     },
     "metadata": {
      "needs_background": "light"
     },
     "output_type": "display_data"
    }
   ],
   "source": [
    "plt.xlabel(\"Length of line\")\n",
    "plt.ylabel(\"Time (ms)\")\n",
    "plt.title('Condensed Fixed Intervals Algorithm')\n",
    "plt.plot(xy[0],xy[1], c='blue')\n",
    "\n",
    "f_x = np.linspace(0,len_of_line-4,len_of_line-3)\n",
    "f = lambda x: x/64\n",
    "f_y = [f(x) for x in range(len_of_line-3)]\n",
    "plt.plot(f_x,f_y,c='black')"
   ]
  }
 ],
 "metadata": {
  "interpreter": {
   "hash": "aba7df81e0700e59c6b4efe5b02db2f9493a70156ccbd829667951b303a1c141"
  },
  "kernelspec": {
   "display_name": "Python 3.9.7 ('base')",
   "language": "python",
   "name": "python3"
  },
  "language_info": {
   "codemirror_mode": {
    "name": "ipython",
    "version": 3
   },
   "file_extension": ".py",
   "mimetype": "text/x-python",
   "name": "python",
   "nbconvert_exporter": "python",
   "pygments_lexer": "ipython3",
   "version": "3.9.7"
  },
  "orig_nbformat": 4
 },
 "nbformat": 4,
 "nbformat_minor": 2
}
